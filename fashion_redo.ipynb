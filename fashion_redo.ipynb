{
 "cells": [
  {
   "cell_type": "code",
   "execution_count": 1,
   "metadata": {},
   "outputs": [
    {
     "name": "stderr",
     "output_type": "stream",
     "text": [
      "Using TensorFlow backend.\n"
     ]
    }
   ],
   "source": [
    "from __future__ import division, print_function\n",
    "%matplotlib inline\n",
    "from importlib import reload  # Python 3\n",
    "import utils_code; reload(utils_code)\n",
    "from utils_code import *"
   ]
  },
  {
   "cell_type": "markdown",
   "metadata": {},
   "source": [
    "## Get data, get valid set and normalization"
   ]
  },
  {
   "cell_type": "code",
   "execution_count": 2,
   "metadata": {},
   "outputs": [
    {
     "name": "stdout",
     "output_type": "stream",
     "text": [
      "Training set size: (60000, 784)\n",
      "Testing set size: (10000, 784)\n"
     ]
    }
   ],
   "source": [
    "from utils import mnist_reader\n",
    "X_train, y_train = mnist_reader.load_mnist('data/fashion', kind='train')\n",
    "X_test, y_test = mnist_reader.load_mnist('data/fashion', kind='t10k')\n",
    "\n",
    "print('Training set size: {}'.format(X_train.shape))\n",
    "print('Testing set size: {}'.format(X_test.shape))"
   ]
  },
  {
   "cell_type": "code",
   "execution_count": 3,
   "metadata": {},
   "outputs": [
    {
     "name": "stdout",
     "output_type": "stream",
     "text": [
      "Training set size: (60000, 28, 28, 1)\n",
      "Testing set size: (10000, 28, 28, 1)\n"
     ]
    }
   ],
   "source": [
    "def reshape_img(x):\n",
    "#     x = x/255\n",
    "    return x.reshape(x.shape[0],28,28,1)\n",
    "X_train = reshape_img(X_train)\n",
    "X_test = reshape_img(X_test)\n",
    "print('Training set size: {}'.format(X_train.shape))\n",
    "print('Testing set size: {}'.format(X_test.shape))"
   ]
  },
  {
   "cell_type": "code",
   "execution_count": 4,
   "metadata": {},
   "outputs": [
    {
     "name": "stdout",
     "output_type": "stream",
     "text": [
      "size of training set: (50000, 28, 28, 1)\n",
      "size of valid set: (10000, 28, 28, 1)\n",
      "size of test set: (10000, 28, 28, 1)\n"
     ]
    }
   ],
   "source": [
    "X_valid = X_train[50000:]\n",
    "y_valid = y_train[50000:]\n",
    "X_train = X_train[:50000]\n",
    "y_train = y_train[:50000]\n",
    "print(\"size of training set: {}\".format(X_train.shape))\n",
    "print(\"size of valid set: {}\".format(X_valid.shape))\n",
    "print(\"size of test set: {}\".format(X_test.shape))"
   ]
  },
  {
   "cell_type": "code",
   "execution_count": 5,
   "metadata": {
    "collapsed": true
   },
   "outputs": [],
   "source": [
    "y_train = onehot(y_train)\n",
    "y_test = onehot(y_test)\n",
    "y_valid = onehot(y_valid)\n"
   ]
  },
  {
   "cell_type": "code",
   "execution_count": 6,
   "metadata": {
    "collapsed": true
   },
   "outputs": [],
   "source": [
    "labels={\n",
    "    0:'T-shirt/top',\n",
    "    1:'Trouser',\n",
    "    2:'Pullover',\n",
    "    3:'Dress',\n",
    "    4:'Coat',\n",
    "    5:'Sandal',\n",
    "    6:'Shirt',\n",
    "    7:'Sneaker',\n",
    "    8:'Bag',\n",
    "    9:'Ankle boot',\n",
    "}"
   ]
  },
  {
   "cell_type": "code",
   "execution_count": 7,
   "metadata": {},
   "outputs": [
    {
     "name": "stdout",
     "output_type": "stream",
     "text": [
      "72.8022\n",
      "89.96\n"
     ]
    }
   ],
   "source": [
    "# normalization\n",
    "mean_px = X_train.mean().astype(np.float32)\n",
    "std_px = X_train.std().astype(np.float32)\n",
    "print(mean_px)\n",
    "print(std_px)"
   ]
  },
  {
   "cell_type": "code",
   "execution_count": 8,
   "metadata": {
    "collapsed": true
   },
   "outputs": [],
   "source": [
    "def norm_input(x): return (x-mean_px)/std_px"
   ]
  },
  {
   "cell_type": "code",
   "execution_count": 15,
   "metadata": {
    "collapsed": true
   },
   "outputs": [],
   "source": [
    "# # apply normalization to test and valid set\n",
    "# X_valid = norm_input(X_valid)\n",
    "# X_test = norm_input(X_test)"
   ]
  },
  {
   "cell_type": "markdown",
   "metadata": {},
   "source": [
    "## Apply learning models\n"
   ]
  },
  {
   "cell_type": "code",
   "execution_count": 9,
   "metadata": {
    "collapsed": true
   },
   "outputs": [],
   "source": [
    "batch_size=64"
   ]
  },
  {
   "cell_type": "code",
   "execution_count": 10,
   "metadata": {
    "collapsed": true
   },
   "outputs": [],
   "source": [
    "from keras.initializers import VarianceScaling,glorot_normal\n",
    "def test_set_accuracy(model):\n",
    "    score = model.evaluate(X_test,y_test,verbose=1)\n",
    "    print()\n",
    "    print(score)\n",
    "    print('\\n', 'Accuracy on test set:', score[1])\n",
    "def get_initializer():\n",
    "    return VarianceScaling(seed=1)"
   ]
  },
  {
   "cell_type": "markdown",
   "metadata": {},
   "source": [
    "### Linear models"
   ]
  },
  {
   "cell_type": "code",
   "execution_count": 11,
   "metadata": {
    "collapsed": true
   },
   "outputs": [],
   "source": [
    "def get_lin_model():\n",
    "    model = Sequential([\n",
    "        Lambda(norm_input, input_shape=(28,28,1)),\n",
    "        Flatten(),\n",
    "        Dense(10, activation='softmax')\n",
    "        ])\n",
    "    model.compile(Adam(), loss='categorical_crossentropy', metrics=['accuracy'])\n",
    "    return model"
   ]
  },
  {
   "cell_type": "code",
   "execution_count": 12,
   "metadata": {
    "collapsed": true
   },
   "outputs": [],
   "source": [
    "lm = get_lin_model()\n",
    "gen = image.ImageDataGenerator()\n",
    "batches = gen.flow(X_train, y_train, batch_size=batch_size)\n",
    "val_batches = gen.flow(X_valid,y_valid,batch_size = batch_size)\n",
    "# test_batches = gen.flow(X_test, y_test, batch_size=batch_size)\n",
    "steps_per_epoch = int(np.ceil(batches.n/batch_size))\n",
    "validation_steps = int(np.ceil(val_batches.n/batch_size))"
   ]
  },
  {
   "cell_type": "code",
   "execution_count": 13,
   "metadata": {},
   "outputs": [
    {
     "name": "stdout",
     "output_type": "stream",
     "text": [
      "Epoch 1/1\n",
      "782/782 [==============================] - 3s - loss: 0.5775 - acc: 0.7941 - val_loss: 0.4956 - val_acc: 0.8269\n"
     ]
    },
    {
     "data": {
      "text/plain": [
       "<keras.callbacks.History at 0x7efede1fd780>"
      ]
     },
     "execution_count": 13,
     "metadata": {},
     "output_type": "execute_result"
    }
   ],
   "source": [
    "lm.fit_generator(batches, steps_per_epoch=steps_per_epoch, epochs=1, \n",
    "                    validation_data=val_batches, validation_steps=validation_steps)"
   ]
  },
  {
   "cell_type": "code",
   "execution_count": 14,
   "metadata": {},
   "outputs": [
    {
     "name": "stdout",
     "output_type": "stream",
     "text": [
      "Epoch 1/2\n",
      "782/782 [==============================] - 2s - loss: 0.4556 - acc: 0.8411 - val_loss: 0.4577 - val_acc: 0.8381\n",
      "Epoch 2/2\n",
      "782/782 [==============================] - 2s - loss: 0.4351 - acc: 0.8481 - val_loss: 0.4469 - val_acc: 0.8408\n"
     ]
    },
    {
     "data": {
      "text/plain": [
       "<keras.callbacks.History at 0x7efedc173a20>"
      ]
     },
     "execution_count": 14,
     "metadata": {},
     "output_type": "execute_result"
    }
   ],
   "source": [
    "lm.optimizer.lr=0.1\n",
    "lm.fit_generator(batches, steps_per_epoch=steps_per_epoch, epochs=2, \n",
    "                    validation_data=val_batches, validation_steps=validation_steps)"
   ]
  },
  {
   "cell_type": "code",
   "execution_count": 15,
   "metadata": {},
   "outputs": [
    {
     "name": "stdout",
     "output_type": "stream",
     "text": [
      "Epoch 1/2\n",
      "782/782 [==============================] - 3s - loss: 0.4263 - acc: 0.8522 - val_loss: 0.4404 - val_acc: 0.8468\n",
      "Epoch 2/2\n",
      "782/782 [==============================] - 2s - loss: 0.4144 - acc: 0.8556 - val_loss: 0.4360 - val_acc: 0.8485\n"
     ]
    },
    {
     "data": {
      "text/plain": [
       "<keras.callbacks.History at 0x7efedc173b38>"
      ]
     },
     "execution_count": 15,
     "metadata": {},
     "output_type": "execute_result"
    }
   ],
   "source": [
    "lm.optimizer.lr=0.001\n",
    "lm.fit_generator(batches, steps_per_epoch=steps_per_epoch, epochs=2, \n",
    "                    validation_data=val_batches, validation_steps=validation_steps)"
   ]
  },
  {
   "cell_type": "code",
   "execution_count": 16,
   "metadata": {},
   "outputs": [
    {
     "name": "stdout",
     "output_type": "stream",
     "text": [
      "Epoch 1/8\n",
      "782/782 [==============================] - 2s - loss: 0.4121 - acc: 0.8559 - val_loss: 0.4476 - val_acc: 0.8438\n",
      "Epoch 2/8\n",
      "782/782 [==============================] - 2s - loss: 0.4101 - acc: 0.8575 - val_loss: 0.4166 - val_acc: 0.8470\n",
      "Epoch 3/8\n",
      "782/782 [==============================] - 2s - loss: 0.3994 - acc: 0.8596 - val_loss: 0.4465 - val_acc: 0.8459\n",
      "Epoch 4/8\n",
      "782/782 [==============================] - 2s - loss: 0.3958 - acc: 0.8620 - val_loss: 0.4340 - val_acc: 0.8481\n",
      "Epoch 5/8\n",
      "782/782 [==============================] - 2s - loss: 0.3996 - acc: 0.8599 - val_loss: 0.4438 - val_acc: 0.8459\n",
      "Epoch 6/8\n",
      "782/782 [==============================] - 2s - loss: 0.3949 - acc: 0.8612 - val_loss: 0.4497 - val_acc: 0.8406\n",
      "Epoch 7/8\n",
      "782/782 [==============================] - 2s - loss: 0.3929 - acc: 0.8636 - val_loss: 0.4486 - val_acc: 0.8454\n",
      "Epoch 8/8\n",
      "782/782 [==============================] - 2s - loss: 0.3918 - acc: 0.8622 - val_loss: 0.4321 - val_acc: 0.8483\n"
     ]
    },
    {
     "data": {
      "text/plain": [
       "<keras.callbacks.History at 0x7efedc173f60>"
      ]
     },
     "execution_count": 16,
     "metadata": {},
     "output_type": "execute_result"
    }
   ],
   "source": [
    "lm.optimizer.lr=0.01\n",
    "lm.fit_generator(batches, steps_per_epoch=steps_per_epoch, epochs=8, \n",
    "                    validation_data=val_batches, validation_steps=validation_steps)"
   ]
  },
  {
   "cell_type": "code",
   "execution_count": 17,
   "metadata": {},
   "outputs": [
    {
     "name": "stdout",
     "output_type": "stream",
     "text": [
      "Epoch 1/4\n",
      "782/782 [==============================] - 2s - loss: 0.3868 - acc: 0.8639 - val_loss: 0.4444 - val_acc: 0.8395\n",
      "Epoch 2/4\n",
      "782/782 [==============================] - 2s - loss: 0.3848 - acc: 0.8650 - val_loss: 0.4368 - val_acc: 0.8454\n",
      "Epoch 3/4\n",
      "782/782 [==============================] - 2s - loss: 0.3855 - acc: 0.8645 - val_loss: 0.4465 - val_acc: 0.8447\n",
      "Epoch 4/4\n",
      "782/782 [==============================] - 2s - loss: 0.3855 - acc: 0.8643 - val_loss: 0.4594 - val_acc: 0.8429\n"
     ]
    },
    {
     "data": {
      "text/plain": [
       "<keras.callbacks.History at 0x7efedc173d30>"
      ]
     },
     "execution_count": 17,
     "metadata": {},
     "output_type": "execute_result"
    }
   ],
   "source": [
    "lm.optimizer.lr=0.001\n",
    "lm.fit_generator(batches, steps_per_epoch=steps_per_epoch, epochs=4, \n",
    "                    validation_data=val_batches, validation_steps=validation_steps)"
   ]
  },
  {
   "cell_type": "code",
   "execution_count": 23,
   "metadata": {},
   "outputs": [
    {
     "name": "stdout",
     "output_type": "stream",
     "text": [
      " 9696/10000 [============================>.] - ETA: 0s\n",
      "[0.47907687935829163, 0.8347]\n",
      "\n",
      " Accuracy on test set: 0.8347\n"
     ]
    }
   ],
   "source": [
    "test_set_accuracy(lm)"
   ]
  },
  {
   "cell_type": "markdown",
   "metadata": {},
   "source": [
    "### Neural Network with 1 hidden layer"
   ]
  },
  {
   "cell_type": "code",
   "execution_count": 12,
   "metadata": {
    "collapsed": true
   },
   "outputs": [],
   "source": [
    "\n",
    "def neural_net():\n",
    "    model = Sequential([\n",
    "        Lambda(norm_input, input_shape=(28,28,1)),\n",
    "        Flatten(),\n",
    "        Dense(512,activation='relu',kernel_initializer = get_initializer()),\n",
    "        Dense(10, activation='softmax',kernel_initializer = get_initializer())\n",
    "        ])\n",
    "    model.compile(Adam(), loss='categorical_crossentropy', metrics=['accuracy'])\n",
    "    return model"
   ]
  },
  {
   "cell_type": "code",
   "execution_count": 72,
   "metadata": {
    "collapsed": true
   },
   "outputs": [],
   "source": [
    "nn = neural_net()\n",
    "gen = image.ImageDataGenerator()\n",
    "batches = gen.flow(X_train, y_train, batch_size=batch_size)\n",
    "val_batches = gen.flow(X_valid,y_valid,batch_size = batch_size)\n",
    "# test_batches = gen.flow(X_test, y_test, batch_size=batch_size)\n",
    "steps_per_epoch = int(np.ceil(batches.n/batch_size))\n",
    "validation_steps = int(np.ceil(val_batches.n/batch_size))"
   ]
  },
  {
   "cell_type": "code",
   "execution_count": 73,
   "metadata": {},
   "outputs": [
    {
     "name": "stdout",
     "output_type": "stream",
     "text": [
      "Epoch 1/2\n",
      "782/782 [==============================] - 3s - loss: 0.4540 - acc: 0.8365 - val_loss: 0.3751 - val_acc: 0.8640\n",
      "Epoch 2/2\n",
      "782/782 [==============================] - 3s - loss: 0.3478 - acc: 0.8732 - val_loss: 0.3395 - val_acc: 0.8746\n"
     ]
    },
    {
     "data": {
      "text/plain": [
       "<keras.callbacks.History at 0x7efedc9f0978>"
      ]
     },
     "execution_count": 73,
     "metadata": {},
     "output_type": "execute_result"
    }
   ],
   "source": [
    "nn.fit_generator(batches, steps_per_epoch=steps_per_epoch, epochs=2, \n",
    "                    validation_data=val_batches, validation_steps=validation_steps)"
   ]
  },
  {
   "cell_type": "code",
   "execution_count": 32,
   "metadata": {},
   "outputs": [
    {
     "name": "stdout",
     "output_type": "stream",
     "text": [
      "Epoch 1/4\n",
      "782/782 [==============================] - 3s - loss: 0.3112 - acc: 0.8867 - val_loss: 0.3411 - val_acc: 0.8750\n",
      "Epoch 2/4\n",
      "782/782 [==============================] - 3s - loss: 0.2853 - acc: 0.8928 - val_loss: 0.3355 - val_acc: 0.8805\n",
      "Epoch 3/4\n",
      "782/782 [==============================] - 3s - loss: 0.2629 - acc: 0.9014 - val_loss: 0.3374 - val_acc: 0.8834\n",
      "Epoch 4/4\n",
      "782/782 [==============================] - 3s - loss: 0.2453 - acc: 0.9081 - val_loss: 0.3691 - val_acc: 0.8706\n"
     ]
    },
    {
     "data": {
      "text/plain": [
       "<keras.callbacks.History at 0x7efede0a5ba8>"
      ]
     },
     "execution_count": 32,
     "metadata": {},
     "output_type": "execute_result"
    }
   ],
   "source": [
    "nn.optimizer.lr=0.01\n",
    "nn.fit_generator(batches, steps_per_epoch=steps_per_epoch, epochs=4, \n",
    "                    validation_data=val_batches, validation_steps=validation_steps)"
   ]
  },
  {
   "cell_type": "code",
   "execution_count": 33,
   "metadata": {},
   "outputs": [
    {
     "name": "stdout",
     "output_type": "stream",
     "text": [
      "Epoch 1/8\n",
      "782/782 [==============================] - 3s - loss: 0.2368 - acc: 0.9119 - val_loss: 0.3355 - val_acc: 0.8844\n",
      "Epoch 2/8\n",
      "782/782 [==============================] - 3s - loss: 0.2222 - acc: 0.9176 - val_loss: 0.3268 - val_acc: 0.8840\n",
      "Epoch 3/8\n",
      "782/782 [==============================] - 3s - loss: 0.2111 - acc: 0.9211 - val_loss: 0.3282 - val_acc: 0.8879\n",
      "Epoch 4/8\n",
      "782/782 [==============================] - 3s - loss: 0.1968 - acc: 0.9261 - val_loss: 0.3487 - val_acc: 0.8903\n",
      "Epoch 5/8\n",
      "782/782 [==============================] - 3s - loss: 0.1867 - acc: 0.9305 - val_loss: 0.3695 - val_acc: 0.8816\n",
      "Epoch 6/8\n",
      "782/782 [==============================] - 3s - loss: 0.1811 - acc: 0.9325 - val_loss: 0.3475 - val_acc: 0.8863\n",
      "Epoch 7/8\n",
      "782/782 [==============================] - 3s - loss: 0.1695 - acc: 0.9360 - val_loss: 0.3453 - val_acc: 0.8901\n",
      "Epoch 8/8\n",
      "782/782 [==============================] - 3s - loss: 0.1624 - acc: 0.9378 - val_loss: 0.3590 - val_acc: 0.8884\n"
     ]
    },
    {
     "data": {
      "text/plain": [
       "<keras.callbacks.History at 0x7efede0bc828>"
      ]
     },
     "execution_count": 33,
     "metadata": {},
     "output_type": "execute_result"
    }
   ],
   "source": [
    "nn.optimizer.lr=0.001\n",
    "nn.fit_generator(batches, steps_per_epoch=steps_per_epoch, epochs=8, \n",
    "                    validation_data=val_batches, validation_steps=validation_steps)"
   ]
  },
  {
   "cell_type": "code",
   "execution_count": 34,
   "metadata": {},
   "outputs": [
    {
     "name": "stdout",
     "output_type": "stream",
     "text": [
      "Epoch 1/2\n",
      "782/782 [==============================] - 3s - loss: 0.1579 - acc: 0.9407 - val_loss: 0.3698 - val_acc: 0.8902\n",
      "Epoch 2/2\n",
      "782/782 [==============================] - 3s - loss: 0.1469 - acc: 0.9449 - val_loss: 0.3780 - val_acc: 0.8893\n"
     ]
    },
    {
     "data": {
      "text/plain": [
       "<keras.callbacks.History at 0x7efede0bcb70>"
      ]
     },
     "execution_count": 34,
     "metadata": {},
     "output_type": "execute_result"
    }
   ],
   "source": [
    "nn.optimizer.lr=0.0001\n",
    "nn.fit_generator(batches, steps_per_epoch=steps_per_epoch, epochs=2, \n",
    "                    validation_data=val_batches, validation_steps=validation_steps)"
   ]
  },
  {
   "cell_type": "code",
   "execution_count": 35,
   "metadata": {},
   "outputs": [
    {
     "name": "stdout",
     "output_type": "stream",
     "text": [
      " 9664/10000 [===========================>..] - ETA: 0s\n",
      "[0.40129989824891088, 0.88639999999999997]\n",
      "\n",
      " Accuracy on test set: 0.8864\n"
     ]
    }
   ],
   "source": [
    "test_set_accuracy(nn)"
   ]
  },
  {
   "cell_type": "markdown",
   "metadata": {},
   "source": [
    "### Lenet 5"
   ]
  },
  {
   "cell_type": "code",
   "execution_count": 13,
   "metadata": {
    "collapsed": true
   },
   "outputs": [],
   "source": [
    "def get_initializer():\n",
    "    return VarianceScaling(seed=1204)\n",
    "\n",
    "def lenet():\n",
    "    model = Sequential([\n",
    "        Lambda(norm_input, input_shape=(28,28,1)),\n",
    "        Conv2D(filters=32,kernel_size=3,padding='same',activation='relu',\\\n",
    "\n",
    "              ),\n",
    "        MaxPooling2D(),\n",
    "        Conv2D(filters=64,kernel_size=3,padding='same',activation='relu',\\\n",
    "\n",
    "                     ),\n",
    "        MaxPooling2D(),\n",
    "        Flatten(),\n",
    "        Dense(1024,activation='relu',\\\n",
    "\n",
    "                   ),\n",
    "        Dense(10,activation='softmax',\\\n",
    "\n",
    "                   )\n",
    "                    \n",
    "    ])\n",
    "    model.summary()\n",
    "    model.compile(Adam(), loss='categorical_crossentropy', metrics=['accuracy'])\n",
    "    return model"
   ]
  },
  {
   "cell_type": "code",
   "execution_count": 105,
   "metadata": {},
   "outputs": [
    {
     "name": "stdout",
     "output_type": "stream",
     "text": [
      "_________________________________________________________________\n",
      "Layer (type)                 Output Shape              Param #   \n",
      "=================================================================\n",
      "lambda_21 (Lambda)           (None, 28, 28, 1)         0         \n",
      "_________________________________________________________________\n",
      "conv2d_35 (Conv2D)           (None, 28, 28, 32)        320       \n",
      "_________________________________________________________________\n",
      "max_pooling2d_35 (MaxPooling (None, 14, 14, 32)        0         \n",
      "_________________________________________________________________\n",
      "conv2d_36 (Conv2D)           (None, 14, 14, 64)        18496     \n",
      "_________________________________________________________________\n",
      "max_pooling2d_36 (MaxPooling (None, 7, 7, 64)          0         \n",
      "_________________________________________________________________\n",
      "flatten_21 (Flatten)         (None, 3136)              0         \n",
      "_________________________________________________________________\n",
      "dense_38 (Dense)             (None, 1024)              3212288   \n",
      "_________________________________________________________________\n",
      "dense_39 (Dense)             (None, 10)                10250     \n",
      "=================================================================\n",
      "Total params: 3,241,354\n",
      "Trainable params: 3,241,354\n",
      "Non-trainable params: 0\n",
      "_________________________________________________________________\n"
     ]
    }
   ],
   "source": [
    "ln = lenet()\n",
    "gen = image.ImageDataGenerator()\n",
    "batches = gen.flow(X_train, y_train, batch_size=batch_size)\n",
    "val_batches = gen.flow(X_valid,y_valid,batch_size = batch_size)\n",
    "# test_batches = gen.flow(X_test, y_test, batch_size=batch_size)\n",
    "steps_per_epoch = int(np.ceil(batches.n/batch_size))\n",
    "validation_steps = int(np.ceil(val_batches.n/batch_size))"
   ]
  },
  {
   "cell_type": "code",
   "execution_count": 93,
   "metadata": {},
   "outputs": [
    {
     "name": "stdout",
     "output_type": "stream",
     "text": [
      " 9568/10000 [===========================>..] - ETA: 0s\n",
      "[0.42563023577937859, 0.91820000000000002]\n",
      "\n",
      " Accuracy on test set: 0.9182\n"
     ]
    }
   ],
   "source": [
    "test_set_accuracy(ln)"
   ]
  },
  {
   "cell_type": "code",
   "execution_count": 106,
   "metadata": {},
   "outputs": [
    {
     "name": "stdout",
     "output_type": "stream",
     "text": [
      "Epoch 1/4\n",
      "782/782 [==============================] - 10s - loss: 0.3785 - acc: 0.8631 - val_loss: 0.2729 - val_acc: 0.8987\n",
      "Epoch 2/4\n",
      "782/782 [==============================] - 10s - loss: 0.2429 - acc: 0.9097 - val_loss: 0.2440 - val_acc: 0.9103\n",
      "Epoch 3/4\n",
      "782/782 [==============================] - 10s - loss: 0.1930 - acc: 0.9293 - val_loss: 0.2177 - val_acc: 0.9188\n",
      "Epoch 4/4\n",
      "782/782 [==============================] - 10s - loss: 0.1565 - acc: 0.9423 - val_loss: 0.2270 - val_acc: 0.9177\n"
     ]
    },
    {
     "data": {
      "text/plain": [
       "<keras.callbacks.History at 0x7efed758f860>"
      ]
     },
     "execution_count": 106,
     "metadata": {},
     "output_type": "execute_result"
    }
   ],
   "source": [
    "ln.fit_generator(batches, steps_per_epoch=steps_per_epoch, epochs=4, \n",
    "                    validation_data=val_batches, validation_steps=validation_steps)"
   ]
  },
  {
   "cell_type": "code",
   "execution_count": 108,
   "metadata": {},
   "outputs": [
    {
     "name": "stdout",
     "output_type": "stream",
     "text": [
      "Epoch 1/2\n",
      "782/782 [==============================] - 10s - loss: 0.1233 - acc: 0.9553 - val_loss: 0.2252 - val_acc: 0.9226\n",
      "Epoch 2/2\n",
      "782/782 [==============================] - 10s - loss: 0.0976 - acc: 0.9635 - val_loss: 0.2789 - val_acc: 0.9141\n"
     ]
    },
    {
     "data": {
      "text/plain": [
       "<keras.callbacks.History at 0x7efed71882e8>"
      ]
     },
     "execution_count": 108,
     "metadata": {},
     "output_type": "execute_result"
    }
   ],
   "source": [
    "ln.optimizer.lr=0.00001\n",
    "ln.fit_generator(batches, steps_per_epoch=steps_per_epoch, epochs=2, \n",
    "                    validation_data=val_batches, validation_steps=validation_steps)"
   ]
  },
  {
   "cell_type": "code",
   "execution_count": 110,
   "metadata": {},
   "outputs": [
    {
     "name": "stdout",
     "output_type": "stream",
     "text": [
      "Epoch 1/2\n",
      "782/782 [==============================] - 10s - loss: 0.0772 - acc: 0.9712 - val_loss: 0.2693 - val_acc: 0.9210\n",
      "Epoch 2/2\n",
      "782/782 [==============================] - 10s - loss: 0.0584 - acc: 0.9793 - val_loss: 0.2980 - val_acc: 0.9174\n"
     ]
    },
    {
     "data": {
      "text/plain": [
       "<keras.callbacks.History at 0x7efed758f4a8>"
      ]
     },
     "execution_count": 110,
     "metadata": {},
     "output_type": "execute_result"
    }
   ],
   "source": [
    "ln.optimizer.lr=0.01\n",
    "ln.fit_generator(batches, steps_per_epoch=steps_per_epoch, epochs=2, \n",
    "                    validation_data=val_batches, validation_steps=validation_steps)"
   ]
  },
  {
   "cell_type": "code",
   "execution_count": 111,
   "metadata": {},
   "outputs": [
    {
     "name": "stdout",
     "output_type": "stream",
     "text": [
      " 9952/10000 [============================>.] - ETA: 0s\n",
      "[0.31714670702964065, 0.92069999999999996]\n",
      "\n",
      " Accuracy on test set: 0.9207\n"
     ]
    }
   ],
   "source": [
    "test_set_accuracy(ln)"
   ]
  },
  {
   "cell_type": "markdown",
   "metadata": {},
   "source": [
    "### Basic VGG"
   ]
  },
  {
   "cell_type": "code",
   "execution_count": 21,
   "metadata": {
    "collapsed": true
   },
   "outputs": [],
   "source": [
    "def basic_vgg():\n",
    "    model = Sequential([\n",
    "        Lambda(norm_input, input_shape=(28,28,1)),\n",
    "        Conv2D(32,(3,3), activation='relu'),\n",
    "        Conv2D(32,(3,3), activation='relu'),\n",
    "        MaxPooling2D(),\n",
    "        Conv2D(64,(3,3), activation='relu'),\n",
    "        Conv2D(64,(3,3), activation='relu'),\n",
    "        MaxPooling2D(),\n",
    "        Flatten(),\n",
    "        Dense(512, activation='relu'),\n",
    "        Dense(10, activation='softmax')\n",
    "        ])\n",
    "    model.compile(Adam(), loss='categorical_crossentropy', metrics=['accuracy'])\n",
    "    return model"
   ]
  },
  {
   "cell_type": "code",
   "execution_count": 22,
   "metadata": {
    "collapsed": true
   },
   "outputs": [],
   "source": [
    "vgg = basic_vgg()\n",
    "gen = image.ImageDataGenerator()\n",
    "batches = gen.flow(X_train, y_train, batch_size=batch_size)\n",
    "val_batches = gen.flow(X_valid,y_valid,batch_size = batch_size)\n",
    "# test_batches = gen.flow(X_test, y_test, batch_size=batch_size)\n",
    "steps_per_epoch = int(np.ceil(batches.n/batch_size))\n",
    "validation_steps = int(np.ceil(val_batches.n/batch_size))"
   ]
  },
  {
   "cell_type": "code",
   "execution_count": 128,
   "metadata": {},
   "outputs": [
    {
     "name": "stdout",
     "output_type": "stream",
     "text": [
      "Epoch 1/2\n",
      "782/782 [==============================] - 11s - loss: 0.4481 - acc: 0.8361 - val_loss: 0.3211 - val_acc: 0.8816\n",
      "Epoch 2/2\n",
      "782/782 [==============================] - 10s - loss: 0.2739 - acc: 0.8994 - val_loss: 0.2722 - val_acc: 0.8974\n"
     ]
    },
    {
     "data": {
      "text/plain": [
       "<keras.callbacks.History at 0x7efed6a6c400>"
      ]
     },
     "execution_count": 128,
     "metadata": {},
     "output_type": "execute_result"
    }
   ],
   "source": [
    "vgg.fit_generator(batches, steps_per_epoch=steps_per_epoch, epochs=2, \n",
    "                    validation_data=val_batches, validation_steps=validation_steps)"
   ]
  },
  {
   "cell_type": "code",
   "execution_count": 129,
   "metadata": {},
   "outputs": [
    {
     "name": "stdout",
     "output_type": "stream",
     "text": [
      "Epoch 1/1\n",
      "782/782 [==============================] - 11s - loss: 0.2264 - acc: 0.9160 - val_loss: 0.2944 - val_acc: 0.9021\n"
     ]
    },
    {
     "data": {
      "text/plain": [
       "<keras.callbacks.History at 0x7efed67418d0>"
      ]
     },
     "execution_count": 129,
     "metadata": {},
     "output_type": "execute_result"
    }
   ],
   "source": [
    "vgg.optimizer.lr=0.1\n",
    "vgg.fit_generator(batches, steps_per_epoch=steps_per_epoch, epochs=1, \n",
    "                    validation_data=val_batches, validation_steps=validation_steps)"
   ]
  },
  {
   "cell_type": "code",
   "execution_count": 130,
   "metadata": {},
   "outputs": [
    {
     "name": "stdout",
     "output_type": "stream",
     "text": [
      "Epoch 1/1\n",
      "782/782 [==============================] - 10s - loss: 0.1925 - acc: 0.9292 - val_loss: 0.2384 - val_acc: 0.9167\n"
     ]
    },
    {
     "data": {
      "text/plain": [
       "<keras.callbacks.History at 0x7efed6ab4b70>"
      ]
     },
     "execution_count": 130,
     "metadata": {},
     "output_type": "execute_result"
    }
   ],
   "source": [
    "vgg.optimizer.lr=0.01\n",
    "vgg.fit_generator(batches, steps_per_epoch=steps_per_epoch, epochs=1, \n",
    "                    validation_data=val_batches, validation_steps=validation_steps)"
   ]
  },
  {
   "cell_type": "code",
   "execution_count": 131,
   "metadata": {},
   "outputs": [
    {
     "name": "stdout",
     "output_type": "stream",
     "text": [
      "Epoch 1/2\n",
      "782/782 [==============================] - 10s - loss: 0.1667 - acc: 0.9384 - val_loss: 0.2571 - val_acc: 0.9169\n",
      "Epoch 2/2\n",
      "782/782 [==============================] - 10s - loss: 0.1423 - acc: 0.9461 - val_loss: 0.2363 - val_acc: 0.9213\n"
     ]
    },
    {
     "data": {
      "text/plain": [
       "<keras.callbacks.History at 0x7efed6a60f60>"
      ]
     },
     "execution_count": 131,
     "metadata": {},
     "output_type": "execute_result"
    }
   ],
   "source": [
    "vgg.optimizer.lr=0.001\n",
    "vgg.fit_generator(batches, steps_per_epoch=steps_per_epoch, epochs=2, \n",
    "                    validation_data=val_batches, validation_steps=validation_steps)"
   ]
  },
  {
   "cell_type": "code",
   "execution_count": 132,
   "metadata": {},
   "outputs": [
    {
     "name": "stdout",
     "output_type": "stream",
     "text": [
      "Epoch 1/2\n",
      "782/782 [==============================] - 10s - loss: 0.1213 - acc: 0.9554 - val_loss: 0.2433 - val_acc: 0.9194\n",
      "Epoch 2/2\n",
      "782/782 [==============================] - 10s - loss: 0.1024 - acc: 0.9620 - val_loss: 0.2753 - val_acc: 0.9194\n"
     ]
    },
    {
     "data": {
      "text/plain": [
       "<keras.callbacks.History at 0x7efeddab37f0>"
      ]
     },
     "execution_count": 132,
     "metadata": {},
     "output_type": "execute_result"
    }
   ],
   "source": [
    "vgg.fit_generator(batches, steps_per_epoch=steps_per_epoch, epochs=2, \n",
    "                    validation_data=val_batches, validation_steps=validation_steps)"
   ]
  },
  {
   "cell_type": "code",
   "execution_count": 133,
   "metadata": {},
   "outputs": [
    {
     "name": "stdout",
     "output_type": "stream",
     "text": [
      "Epoch 1/1\n",
      "782/782 [==============================] - 10s - loss: 0.0825 - acc: 0.9690 - val_loss: 0.3017 - val_acc: 0.9182\n"
     ]
    },
    {
     "data": {
      "text/plain": [
       "<keras.callbacks.History at 0x7efed6a6c2e8>"
      ]
     },
     "execution_count": 133,
     "metadata": {},
     "output_type": "execute_result"
    }
   ],
   "source": [
    "vgg.optimizer.lr=0.00001\n",
    "vgg.fit_generator(batches, steps_per_epoch=steps_per_epoch, epochs=1, \n",
    "                    validation_data=val_batches, validation_steps=validation_steps)"
   ]
  },
  {
   "cell_type": "code",
   "execution_count": 134,
   "metadata": {},
   "outputs": [
    {
     "name": "stdout",
     "output_type": "stream",
     "text": [
      "Epoch 1/4\n",
      "782/782 [==============================] - 10s - loss: 0.0739 - acc: 0.9724 - val_loss: 0.3261 - val_acc: 0.9141\n",
      "Epoch 2/4\n",
      "782/782 [==============================] - 10s - loss: 0.0616 - acc: 0.9771 - val_loss: 0.3271 - val_acc: 0.9179\n",
      "Epoch 3/4\n",
      "782/782 [==============================] - 10s - loss: 0.0529 - acc: 0.9800 - val_loss: 0.3606 - val_acc: 0.9196\n",
      "Epoch 4/4\n",
      "782/782 [==============================] - 10s - loss: 0.0459 - acc: 0.9831 - val_loss: 0.3671 - val_acc: 0.9189\n"
     ]
    },
    {
     "data": {
      "text/plain": [
       "<keras.callbacks.History at 0x7efed6a6c198>"
      ]
     },
     "execution_count": 134,
     "metadata": {},
     "output_type": "execute_result"
    }
   ],
   "source": [
    "vgg.optimizer.lr=0.000001\n",
    "vgg.fit_generator(batches, steps_per_epoch=steps_per_epoch, epochs=4, \n",
    "                    validation_data=val_batches, validation_steps=validation_steps)"
   ]
  },
  {
   "cell_type": "code",
   "execution_count": 140,
   "metadata": {},
   "outputs": [
    {
     "name": "stdout",
     "output_type": "stream",
     "text": [
      "Epoch 1/1\n",
      "782/782 [==============================] - 10s - loss: 0.0302 - acc: 0.9893 - val_loss: 0.4721 - val_acc: 0.9172\n"
     ]
    },
    {
     "data": {
      "text/plain": [
       "<keras.callbacks.History at 0x7efed6589d30>"
      ]
     },
     "execution_count": 140,
     "metadata": {},
     "output_type": "execute_result"
    }
   ],
   "source": [
    "vgg.optimizer.lr=0.001\n",
    "vgg.fit_generator(batches, steps_per_epoch=steps_per_epoch, epochs=1, \n",
    "                    validation_data=val_batches, validation_steps=validation_steps)"
   ]
  },
  {
   "cell_type": "code",
   "execution_count": 141,
   "metadata": {},
   "outputs": [
    {
     "name": "stdout",
     "output_type": "stream",
     "text": [
      " 9856/10000 [============================>.] - ETA: 0s\n",
      "[0.4972336398329586, 0.91100000000000003]\n",
      "\n",
      " Accuracy on test set: 0.911\n"
     ]
    }
   ],
   "source": [
    "test_set_accuracy(vgg)\n"
   ]
  },
  {
   "cell_type": "markdown",
   "metadata": {},
   "source": [
    "### Data Aug"
   ]
  },
  {
   "cell_type": "code",
   "execution_count": 23,
   "metadata": {
    "collapsed": true
   },
   "outputs": [],
   "source": [
    "import matplotlib.pyplot as plt         \n",
    "import matplotlib.cm as cm\n",
    "import seaborn as sns\n",
    "%matplotlib inline\n",
    "def plot_image_augmentation(gen):\n",
    "    for X_batch, y_batch in gen.flow(X_train, y_train, batch_size=9):\n",
    "        # create a grid of 3x3 images\n",
    "        for i in range(0, 9):\n",
    "            plt.subplot(330 + 1 + i)\n",
    "            plt.imshow(np.squeeze(X_batch[i]), cmap=cm.binary)\n",
    "        # show the plot\n",
    "        plt.show()\n",
    "        break"
   ]
  },
  {
   "cell_type": "code",
   "execution_count": 16,
   "metadata": {
    "collapsed": true
   },
   "outputs": [],
   "source": [
    "# since image is already center and not rotating\n",
    "gen = image.ImageDataGenerator(\n",
    "                                shear_range=0.3,\n",
    "#                                horizontal_flip=True\n",
    "#                                 zoom_range=0.08\n",
    "                                )\n",
    "gen.fit(X_train)"
   ]
  },
  {
   "cell_type": "code",
   "execution_count": 17,
   "metadata": {},
   "outputs": [
    {
     "data": {
      "image/png": "[encoded data removed]",
      "text/plain": [
       "<matplotlib.figure.Figure at 0x17dd0bf9b38>"
      ]
     },
     "metadata": {},
     "output_type": "display_data"
    }
   ],
   "source": [
    "plot_image_augmentation(gen)"
   ]
  },
  {
   "cell_type": "code",
   "execution_count": 27,
   "metadata": {
    "collapsed": true
   },
   "outputs": [],
   "source": [
    "vgg = basic_vgg()\n",
    "gen = image.ImageDataGenerator(\n",
    "                                shear_range=0.3,\n",
    "#                                fill_mode='constant'\n",
    "#                                 zoom_range=0.08\n",
    "                                )"
   ]
  },
  {
   "cell_type": "code",
   "execution_count": 28,
   "metadata": {
    "collapsed": true
   },
   "outputs": [],
   "source": [
    "\n",
    "batches = gen.flow(X_train, y_train, batch_size=batch_size)\n",
    "val_batches = gen.flow(X_valid, y_valid, batch_size=batch_size)\n",
    "steps_per_epoch = int(np.ceil(batches.n/batch_size))\n",
    "validation_steps = int(np.ceil(valid_batches.n/batch_size))"
   ]
  },
  {
   "cell_type": "code",
   "execution_count": 29,
   "metadata": {},
   "outputs": [
    {
     "name": "stdout",
     "output_type": "stream",
     "text": [
      "Epoch 1/2\n",
      "782/782 [==============================] - 11s - loss: 0.4744 - acc: 0.8270 - val_loss: 0.3655 - val_acc: 0.8660\n",
      "Epoch 2/2\n",
      "782/782 [==============================] - 8s - loss: 0.2996 - acc: 0.8900 - val_loss: 0.2825 - val_acc: 0.8952\n"
     ]
    },
    {
     "data": {
      "text/plain": [
       "<keras.callbacks.History at 0x17d801ddf98>"
      ]
     },
     "execution_count": 29,
     "metadata": {},
     "output_type": "execute_result"
    }
   ],
   "source": [
    "vgg.fit_generator(batches, steps_per_epoch=steps_per_epoch, epochs=2, \n",
    "                    validation_data=val_batches, validation_steps=validation_steps)"
   ]
  },
  {
   "cell_type": "code",
   "execution_count": 30,
   "metadata": {},
   "outputs": [
    {
     "name": "stdout",
     "output_type": "stream",
     "text": [
      "Epoch 1/6\n",
      "782/782 [==============================] - 8s - loss: 0.2535 - acc: 0.9074 - val_loss: 0.2807 - val_acc: 0.8979\n",
      "Epoch 2/6\n",
      "782/782 [==============================] - 8s - loss: 0.2289 - acc: 0.9151 - val_loss: 0.2575 - val_acc: 0.9073\n",
      "Epoch 3/6\n",
      "782/782 [==============================] - 7s - loss: 0.2048 - acc: 0.9249 - val_loss: 0.2512 - val_acc: 0.9111\n",
      "Epoch 4/6\n",
      "782/782 [==============================] - 8s - loss: 0.1882 - acc: 0.9297 - val_loss: 0.2675 - val_acc: 0.9051\n",
      "Epoch 5/6\n",
      "782/782 [==============================] - 8s - loss: 0.1729 - acc: 0.9354 - val_loss: 0.2419 - val_acc: 0.9129\n",
      "Epoch 6/6\n",
      "782/782 [==============================] - 8s - loss: 0.1573 - acc: 0.9405 - val_loss: 0.2363 - val_acc: 0.9233\n"
     ]
    },
    {
     "data": {
      "text/plain": [
       "<keras.callbacks.History at 0x17dd4d6e358>"
      ]
     },
     "execution_count": 30,
     "metadata": {},
     "output_type": "execute_result"
    }
   ],
   "source": [
    "vgg.optimizer.lr=0.01\n",
    "vgg.fit_generator(batches, steps_per_epoch=steps_per_epoch, epochs=6, \n",
    "                    validation_data=val_batches, validation_steps=validation_steps)"
   ]
  },
  {
   "cell_type": "code",
   "execution_count": 31,
   "metadata": {},
   "outputs": [
    {
     "name": "stdout",
     "output_type": "stream",
     "text": [
      "Epoch 1/4\n",
      "782/782 [==============================] - 8s - loss: 0.1410 - acc: 0.9469 - val_loss: 0.2601 - val_acc: 0.9139\n",
      "Epoch 2/4\n",
      "782/782 [==============================] - 8s - loss: 0.1283 - acc: 0.9518 - val_loss: 0.2429 - val_acc: 0.9220\n",
      "Epoch 3/4\n",
      "782/782 [==============================] - 8s - loss: 0.1173 - acc: 0.9555 - val_loss: 0.2584 - val_acc: 0.9192\n",
      "Epoch 4/4\n",
      "782/782 [==============================] - 8s - loss: 0.1079 - acc: 0.9599 - val_loss: 0.2688 - val_acc: 0.9179\n"
     ]
    },
    {
     "data": {
      "text/plain": [
       "<keras.callbacks.History at 0x17d822efcf8>"
      ]
     },
     "execution_count": 31,
     "metadata": {},
     "output_type": "execute_result"
    }
   ],
   "source": [
    "vgg.optimizer.lr=0.001\n",
    "vgg.fit_generator(batches, steps_per_epoch=steps_per_epoch, epochs=4, \n",
    "                    validation_data=val_batches, validation_steps=validation_steps)"
   ]
  },
  {
   "cell_type": "code",
   "execution_count": 32,
   "metadata": {},
   "outputs": [
    {
     "name": "stdout",
     "output_type": "stream",
     "text": [
      "Epoch 1/4\n",
      "782/782 [==============================] - 7s - loss: 0.1007 - acc: 0.9622 - val_loss: 0.2758 - val_acc: 0.9138\n",
      "Epoch 2/4\n",
      "782/782 [==============================] - 7s - loss: 0.0886 - acc: 0.9661 - val_loss: 0.3077 - val_acc: 0.9173\n",
      "Epoch 3/4\n",
      "782/782 [==============================] - 8s - loss: 0.0828 - acc: 0.9694 - val_loss: 0.3039 - val_acc: 0.9180\n",
      "Epoch 4/4\n",
      "782/782 [==============================] - 8s - loss: 0.0787 - acc: 0.9707 - val_loss: 0.3057 - val_acc: 0.9204\n"
     ]
    },
    {
     "data": {
      "text/plain": [
       "<keras.callbacks.History at 0x17d822ef7f0>"
      ]
     },
     "execution_count": 32,
     "metadata": {},
     "output_type": "execute_result"
    }
   ],
   "source": [
    "vgg.optimizer.lr=0.00001\n",
    "vgg.fit_generator(batches, steps_per_epoch=steps_per_epoch, epochs=4, \n",
    "                    validation_data=val_batches, validation_steps=validation_steps)"
   ]
  },
  {
   "cell_type": "code",
   "execution_count": 33,
   "metadata": {},
   "outputs": [
    {
     "name": "stdout",
     "output_type": "stream",
     "text": [
      "Epoch 1/2\n",
      "782/782 [==============================] - 8s - loss: 0.0751 - acc: 0.9720 - val_loss: 0.3435 - val_acc: 0.9191\n",
      "Epoch 2/2\n",
      "782/782 [==============================] - 8s - loss: 0.0695 - acc: 0.9734 - val_loss: 0.3349 - val_acc: 0.9143\n"
     ]
    },
    {
     "data": {
      "text/plain": [
       "<keras.callbacks.History at 0x17d822efc18>"
      ]
     },
     "execution_count": 33,
     "metadata": {},
     "output_type": "execute_result"
    }
   ],
   "source": [
    "vgg.optimizer.lr=0.000001\n",
    "vgg.fit_generator(batches, steps_per_epoch=steps_per_epoch, epochs=2, \n",
    "                    validation_data=val_batches, validation_steps=validation_steps)"
   ]
  },
  {
   "cell_type": "code",
   "execution_count": 34,
   "metadata": {},
   "outputs": [
    {
     "name": "stdout",
     "output_type": "stream",
     "text": [
      " 9344/10000 [===========================>..] - ETA: 0s\n",
      "[0.34395054425001143, 0.91720000000000002]\n",
      "\n",
      " Accuracy on test set: 0.9172\n"
     ]
    }
   ],
   "source": [
    "test_set_accuracy(vgg)"
   ]
  },
  {
   "cell_type": "markdown",
   "metadata": {},
   "source": [
    "Best accuracy for test set is 0.9222 at shear_range=0.3"
   ]
  },
  {
   "cell_type": "markdown",
   "metadata": {},
   "source": [
    "### Batch norm"
   ]
  },
  {
   "cell_type": "code",
   "execution_count": 48,
   "metadata": {
    "collapsed": true
   },
   "outputs": [],
   "source": [
    "def vgg_bn():\n",
    "    model = Sequential([\n",
    "        Lambda(norm_input, input_shape=(28,28,1)),\n",
    "        Conv2D(32,(3,3), activation='relu'),\n",
    "        BatchNormalization(),\n",
    "        Conv2D(32,(3,3), activation='relu'),\n",
    "\n",
    "        MaxPooling2D(),\n",
    "        BatchNormalization(),\n",
    "        Conv2D(64,(3,3), activation='relu'),\n",
    "        MaxPooling2D(),\n",
    "        Conv2D(64,(3,3), activation='relu'),\n",
    "        MaxPooling2D(),\n",
    "        Flatten(),\n",
    "#         BatchNormalization(),\n",
    "        Dense(512, activation='relu'),\n",
    "        BatchNormalization(),\n",
    "\n",
    "        Dense(10, activation='softmax')\n",
    "        ])\n",
    "    model.compile(Adam(), loss='categorical_crossentropy', metrics=['accuracy'])\n",
    "    return model"
   ]
  },
  {
   "cell_type": "code",
   "execution_count": 49,
   "metadata": {
    "collapsed": true
   },
   "outputs": [],
   "source": [
    "vggbn = vgg_bn()\n",
    "gen = image.ImageDataGenerator(shear_range=0.3)\n",
    "batches = gen.flow(X_train, y_train, batch_size=batch_size)\n",
    "val_batches = gen.flow(X_valid,y_valid,batch_size = batch_size)\n",
    "# test_batches = gen.flow(X_test, y_test, batch_size=batch_size)\n",
    "steps_per_epoch = int(np.ceil(batches.n/batch_size))\n",
    "validation_steps = int(np.ceil(val_batches.n/batch_size))"
   ]
  },
  {
   "cell_type": "code",
   "execution_count": 50,
   "metadata": {},
   "outputs": [
    {
     "name": "stdout",
     "output_type": "stream",
     "text": [
      "Epoch 1/4\n",
      "782/782 [==============================] - 11s - loss: 0.5149 - acc: 0.8094 - val_loss: 0.4239 - val_acc: 0.8506\n",
      "Epoch 2/4\n",
      "782/782 [==============================] - 11s - loss: 0.3639 - acc: 0.8676 - val_loss: 0.3707 - val_acc: 0.8661\n",
      "Epoch 3/4\n",
      "782/782 [==============================] - 11s - loss: 0.3186 - acc: 0.8847 - val_loss: 0.3231 - val_acc: 0.8831\n",
      "Epoch 4/4\n",
      "782/782 [==============================] - 11s - loss: 0.2924 - acc: 0.8943 - val_loss: 0.3030 - val_acc: 0.8922\n"
     ]
    },
    {
     "data": {
      "text/plain": [
       "<keras.callbacks.History at 0x17d96b217b8>"
      ]
     },
     "execution_count": 50,
     "metadata": {},
     "output_type": "execute_result"
    }
   ],
   "source": [
    "vggbn.fit_generator(batches, steps_per_epoch=steps_per_epoch, epochs=4, \n",
    "                    validation_data=val_batches, validation_steps=validation_steps)"
   ]
  },
  {
   "cell_type": "code",
   "execution_count": 51,
   "metadata": {},
   "outputs": [
    {
     "name": "stdout",
     "output_type": "stream",
     "text": [
      "Epoch 1/8\n",
      "782/782 [==============================] - 11s - loss: 0.2746 - acc: 0.8996 - val_loss: 0.3444 - val_acc: 0.8816\n",
      "Epoch 2/8\n",
      "782/782 [==============================] - 11s - loss: 0.2615 - acc: 0.9046 - val_loss: 0.3195 - val_acc: 0.8876\n",
      "Epoch 3/8\n",
      "782/782 [==============================] - 11s - loss: 0.2423 - acc: 0.9115 - val_loss: 0.3043 - val_acc: 0.8908\n",
      "Epoch 4/8\n",
      "782/782 [==============================] - 11s - loss: 0.2316 - acc: 0.9153 - val_loss: 0.2915 - val_acc: 0.8937\n",
      "Epoch 5/8\n",
      "782/782 [==============================] - 10s - loss: 0.2202 - acc: 0.9197 - val_loss: 0.3132 - val_acc: 0.8936\n",
      "Epoch 6/8\n",
      "782/782 [==============================] - 11s - loss: 0.2160 - acc: 0.9205 - val_loss: 0.3158 - val_acc: 0.8913\n",
      "Epoch 7/8\n",
      "782/782 [==============================] - 10s - loss: 0.2047 - acc: 0.9252 - val_loss: 0.2813 - val_acc: 0.9029\n",
      "Epoch 8/8\n",
      "782/782 [==============================] - 10s - loss: 0.1985 - acc: 0.9269 - val_loss: 0.2987 - val_acc: 0.8959\n"
     ]
    },
    {
     "data": {
      "text/plain": [
       "<keras.callbacks.History at 0x17d96b21828>"
      ]
     },
     "execution_count": 51,
     "metadata": {},
     "output_type": "execute_result"
    }
   ],
   "source": [
    "vggbn.fit_generator(batches, steps_per_epoch=steps_per_epoch, epochs=8, \n",
    "                    validation_data=val_batches, validation_steps=validation_steps)"
   ]
  },
  {
   "cell_type": "code",
   "execution_count": 52,
   "metadata": {},
   "outputs": [
    {
     "name": "stdout",
     "output_type": "stream",
     "text": [
      "Epoch 1/6\n",
      "782/782 [==============================] - 13s - loss: 0.1895 - acc: 0.9295 - val_loss: 0.2919 - val_acc: 0.8995\n",
      "Epoch 2/6\n",
      "782/782 [==============================] - 13s - loss: 0.1819 - acc: 0.9326 - val_loss: 0.3299 - val_acc: 0.8895\n",
      "Epoch 3/6\n",
      "782/782 [==============================] - 13s - loss: 0.1750 - acc: 0.9355 - val_loss: 0.2943 - val_acc: 0.9011\n",
      "Epoch 4/6\n",
      "782/782 [==============================] - 13s - loss: 0.1711 - acc: 0.9360 - val_loss: 0.3109 - val_acc: 0.8956\n",
      "Epoch 5/6\n",
      "782/782 [==============================] - 13s - loss: 0.1650 - acc: 0.9404 - val_loss: 0.3201 - val_acc: 0.8964\n",
      "Epoch 6/6\n",
      "782/782 [==============================] - 14s - loss: 0.1606 - acc: 0.9413 - val_loss: 0.3068 - val_acc: 0.9046\n"
     ]
    },
    {
     "data": {
      "text/plain": [
       "<keras.callbacks.History at 0x17d94be29e8>"
      ]
     },
     "execution_count": 52,
     "metadata": {},
     "output_type": "execute_result"
    }
   ],
   "source": [
    "vggbn.optimizer.lr=0.00001\n",
    "vggbn.fit_generator(batches, steps_per_epoch=steps_per_epoch, epochs=6, \n",
    "                    validation_data=val_batches, validation_steps=validation_steps)"
   ]
  },
  {
   "cell_type": "code",
   "execution_count": 289,
   "metadata": {},
   "outputs": [
    {
     "name": "stdout",
     "output_type": "stream",
     "text": [
      "Epoch 1/8\n",
      "782/782 [==============================] - 19s - loss: 0.1460 - acc: 0.9462 - val_loss: 0.2748 - val_acc: 0.9132\n",
      "Epoch 2/8\n",
      "782/782 [==============================] - 19s - loss: 0.1418 - acc: 0.9478 - val_loss: 0.3038 - val_acc: 0.9085\n",
      "Epoch 3/8\n",
      "782/782 [==============================] - 19s - loss: 0.1365 - acc: 0.9485 - val_loss: 0.2955 - val_acc: 0.9081\n",
      "Epoch 4/8\n",
      "782/782 [==============================] - 19s - loss: 0.1320 - acc: 0.9510 - val_loss: 0.2802 - val_acc: 0.9167\n",
      "Epoch 5/8\n",
      "782/782 [==============================] - 19s - loss: 0.1299 - acc: 0.9534 - val_loss: 0.2909 - val_acc: 0.9117\n",
      "Epoch 6/8\n",
      "782/782 [==============================] - 19s - loss: 0.1251 - acc: 0.9530 - val_loss: 0.3282 - val_acc: 0.9024\n",
      "Epoch 7/8\n",
      "782/782 [==============================] - 19s - loss: 0.1216 - acc: 0.9546 - val_loss: 0.2995 - val_acc: 0.9113\n",
      "Epoch 8/8\n",
      "782/782 [==============================] - 19s - loss: 0.1184 - acc: 0.9560 - val_loss: 0.3274 - val_acc: 0.9068\n"
     ]
    },
    {
     "data": {
      "text/plain": [
       "<keras.callbacks.History at 0x7efe8b1e6e80>"
      ]
     },
     "execution_count": 289,
     "metadata": {},
     "output_type": "execute_result"
    }
   ],
   "source": [
    "vggbn.optimizer.lr=0.00001\n",
    "vggbn.fit_generator(batches, steps_per_epoch=steps_per_epoch, epochs=8, \n",
    "                    validation_data=val_batches, validation_steps=validation_steps)"
   ]
  },
  {
   "cell_type": "code",
   "execution_count": 53,
   "metadata": {},
   "outputs": [
    {
     "name": "stdout",
     "output_type": "stream",
     "text": [
      " 9792/10000 [============================>.] - ETA: 0s\n",
      "[0.29696623489856722, 0.90610000000000002]\n",
      "\n",
      " Accuracy on test set: 0.9061\n"
     ]
    }
   ],
   "source": [
    "test_set_accuracy(vggbn)"
   ]
  },
  {
   "cell_type": "markdown",
   "metadata": {},
   "source": [
    "### Dropout"
   ]
  },
  {
   "cell_type": "code",
   "execution_count": 55,
   "metadata": {},
   "outputs": [],
   "source": [
    "def vgg_bn_drop():\n",
    "    model = Sequential([\n",
    "        Lambda(norm_input, input_shape=(28,28,1)),\n",
    "        Conv2D(32,(3,3), activation='relu'),\n",
    "        BatchNormalization(),\n",
    "        Conv2D(32,(3,3), activation='relu'),\n",
    "\n",
    "        MaxPooling2D(),\n",
    "        BatchNormalization(),\n",
    "        Conv2D(64,(3,3), activation='relu'),\n",
    "        MaxPooling2D(),\n",
    "        Conv2D(64,(3,3), activation='relu'),\n",
    "        MaxPooling2D(),\n",
    "        Flatten(),\n",
    "#         BatchNormalization(),\n",
    "        Dense(512, activation='relu'),\n",
    "        BatchNormalization(),\n",
    "        Dropout(0.4),\n",
    "        Dense(10, activation='softmax')\n",
    "        ])\n",
    "    model.compile(Adam(), loss='categorical_crossentropy', metrics=['accuracy'])\n",
    "    return model\n",
    "vggbndrop = vgg_bn_drop()\n",
    "gen = image.ImageDataGenerator(shear_range=0.3)\n",
    "batches = gen.flow(X_train, y_train, batch_size=batch_size)\n",
    "val_batches = gen.flow(X_valid,y_valid,batch_size = batch_size)\n",
    "# test_batches = gen.flow(X_test, y_test, batch_size=batch_size)\n",
    "steps_per_epoch = int(np.ceil(batches.n/batch_size))\n",
    "validation_steps = int(np.ceil(val_batches.n/batch_size))"
   ]
  },
  {
   "cell_type": "code",
   "execution_count": 56,
   "metadata": {},
   "outputs": [
    {
     "name": "stdout",
     "output_type": "stream",
     "text": [
      "Epoch 1/10\n",
      "782/782 [==============================] - 13s - loss: 0.5748 - acc: 0.7910 - val_loss: 0.4447 - val_acc: 0.8413\n",
      "Epoch 2/10\n",
      "782/782 [==============================] - 11s - loss: 0.3914 - acc: 0.8597 - val_loss: 0.3802 - val_acc: 0.8673\n",
      "Epoch 3/10\n",
      "782/782 [==============================] - 11s - loss: 0.3387 - acc: 0.8776 - val_loss: 0.3151 - val_acc: 0.8849\n",
      "Epoch 4/10\n",
      "782/782 [==============================] - 11s - loss: 0.3069 - acc: 0.8895 - val_loss: 0.3197 - val_acc: 0.8829\n",
      "Epoch 5/10\n",
      "782/782 [==============================] - 11s - loss: 0.2870 - acc: 0.8958 - val_loss: 0.3371 - val_acc: 0.8796\n",
      "Epoch 6/10\n",
      "782/782 [==============================] - 11s - loss: 0.2687 - acc: 0.9030 - val_loss: 0.3316 - val_acc: 0.8777\n",
      "Epoch 7/10\n",
      "782/782 [==============================] - 11s - loss: 0.2523 - acc: 0.9086 - val_loss: 0.3561 - val_acc: 0.8731\n",
      "Epoch 8/10\n",
      "782/782 [==============================] - 11s - loss: 0.2431 - acc: 0.9118 - val_loss: 0.3013 - val_acc: 0.8964\n",
      "Epoch 9/10\n",
      "782/782 [==============================] - 12s - loss: 0.2302 - acc: 0.9159 - val_loss: 0.2955 - val_acc: 0.8966\n",
      "Epoch 10/10\n",
      "782/782 [==============================] - 12s - loss: 0.2214 - acc: 0.9202 - val_loss: 0.3064 - val_acc: 0.8931\n"
     ]
    },
    {
     "data": {
      "text/plain": [
       "<keras.callbacks.History at 0x17d94c07080>"
      ]
     },
     "execution_count": 56,
     "metadata": {},
     "output_type": "execute_result"
    }
   ],
   "source": [
    "vggbndrop.fit_generator(batches, steps_per_epoch=steps_per_epoch, epochs=10, \n",
    "                    validation_data=val_batches, validation_steps=validation_steps)"
   ]
  },
  {
   "cell_type": "code",
   "execution_count": 59,
   "metadata": {},
   "outputs": [
    {
     "name": "stdout",
     "output_type": "stream",
     "text": [
      "Epoch 1/6\n",
      "782/782 [==============================] - 10s - loss: 0.2152 - acc: 0.9217 - val_loss: 0.3048 - val_acc: 0.8972\n",
      "Epoch 2/6\n",
      "782/782 [==============================] - 10s - loss: 0.2033 - acc: 0.9267 - val_loss: 0.3094 - val_acc: 0.8967\n",
      "Epoch 3/6\n",
      "782/782 [==============================] - 10s - loss: 0.2008 - acc: 0.9269 - val_loss: 0.2783 - val_acc: 0.9030\n",
      "Epoch 4/6\n",
      "782/782 [==============================] - 10s - loss: 0.1918 - acc: 0.9313 - val_loss: 0.3463 - val_acc: 0.8805\n",
      "Epoch 5/6\n",
      "782/782 [==============================] - 10s - loss: 0.1829 - acc: 0.9330 - val_loss: 0.3277 - val_acc: 0.8922\n",
      "Epoch 6/6\n",
      "782/782 [==============================] - 10s - loss: 0.1798 - acc: 0.9344 - val_loss: 0.2835 - val_acc: 0.9051\n"
     ]
    },
    {
     "data": {
      "text/plain": [
       "<keras.callbacks.History at 0x17f9fe26198>"
      ]
     },
     "execution_count": 59,
     "metadata": {},
     "output_type": "execute_result"
    }
   ],
   "source": [
    "vggbndrop.optimizer.lr=0.0001\n",
    "vggbndrop.fit_generator(batches, steps_per_epoch=steps_per_epoch, epochs=6, \n",
    "                    validation_data=val_batches, validation_steps=validation_steps)"
   ]
  },
  {
   "cell_type": "code",
   "execution_count": 60,
   "metadata": {},
   "outputs": [
    {
     "name": "stdout",
     "output_type": "stream",
     "text": [
      "Epoch 1/10\n",
      "782/782 [==============================] - 10s - loss: 0.1714 - acc: 0.9373 - val_loss: 0.2840 - val_acc: 0.9020\n",
      "Epoch 2/10\n",
      "782/782 [==============================] - 10s - loss: 0.1670 - acc: 0.9390 - val_loss: 0.2969 - val_acc: 0.8979\n",
      "Epoch 3/10\n",
      "782/782 [==============================] - 10s - loss: 0.1671 - acc: 0.9394 - val_loss: 0.3278 - val_acc: 0.8926\n",
      "Epoch 4/10\n",
      "782/782 [==============================] - 10s - loss: 0.1577 - acc: 0.9416 - val_loss: 0.3217 - val_acc: 0.9019\n",
      "Epoch 5/10\n",
      "782/782 [==============================] - 10s - loss: 0.1558 - acc: 0.9427 - val_loss: 0.2979 - val_acc: 0.9020\n",
      "Epoch 6/10\n",
      "782/782 [==============================] - 11s - loss: 0.1478 - acc: 0.9452 - val_loss: 0.2827 - val_acc: 0.9098\n",
      "Epoch 7/10\n",
      "782/782 [==============================] - 11s - loss: 0.1473 - acc: 0.9466 - val_loss: 0.2993 - val_acc: 0.9045\n",
      "Epoch 8/10\n",
      "782/782 [==============================] - 11s - loss: 0.1442 - acc: 0.9473 - val_loss: 0.2987 - val_acc: 0.9043\n",
      "Epoch 9/10\n",
      "782/782 [==============================] - 10s - loss: 0.1381 - acc: 0.9493 - val_loss: 0.3222 - val_acc: 0.8965\n",
      "Epoch 10/10\n",
      "782/782 [==============================] - 10s - loss: 0.1393 - acc: 0.9498 - val_loss: 0.2970 - val_acc: 0.9062\n"
     ]
    },
    {
     "data": {
      "text/plain": [
       "<keras.callbacks.History at 0x17f9fe26048>"
      ]
     },
     "execution_count": 60,
     "metadata": {},
     "output_type": "execute_result"
    }
   ],
   "source": [
    "vggbndrop.optimizer.lr=0.000001\n",
    "vggbndrop.fit_generator(batches, steps_per_epoch=steps_per_epoch, epochs=10, \n",
    "                    validation_data=val_batches, validation_steps=validation_steps)"
   ]
  },
  {
   "cell_type": "code",
   "execution_count": 61,
   "metadata": {},
   "outputs": [
    {
     "name": "stdout",
     "output_type": "stream",
     "text": [
      "Epoch 1/4\n",
      "782/782 [==============================] - 10s - loss: 0.1321 - acc: 0.9517 - val_loss: 0.3276 - val_acc: 0.9001\n",
      "Epoch 2/4\n",
      "782/782 [==============================] - 11s - loss: 0.1281 - acc: 0.9534 - val_loss: 0.3144 - val_acc: 0.9010\n",
      "Epoch 3/4\n",
      "782/782 [==============================] - 10s - loss: 0.1277 - acc: 0.9537 - val_loss: 0.3383 - val_acc: 0.8993\n",
      "Epoch 4/4\n",
      "782/782 [==============================] - 12s - loss: 0.1250 - acc: 0.9537 - val_loss: 0.3267 - val_acc: 0.8997\n"
     ]
    },
    {
     "data": {
      "text/plain": [
       "<keras.callbacks.History at 0x17f9fe262b0>"
      ]
     },
     "execution_count": 61,
     "metadata": {},
     "output_type": "execute_result"
    }
   ],
   "source": [
    "vggbndrop.optimizer.lr=0.0000001\n",
    "vggbndrop.fit_generator(batches, steps_per_epoch=steps_per_epoch, epochs=4, \n",
    "                    validation_data=val_batches, validation_steps=validation_steps)"
   ]
  },
  {
   "cell_type": "code",
   "execution_count": 62,
   "metadata": {},
   "outputs": [
    {
     "name": "stdout",
     "output_type": "stream",
     "text": [
      " 9696/10000 [============================>.] - ETA: 0s\n",
      "[0.33883959484398363, 0.90069999999999995]\n",
      "\n",
      " Accuracy on test set: 0.9007\n"
     ]
    }
   ],
   "source": [
    "test_set_accuracy(vggbndrop)"
   ]
  }
 ],
 "metadata": {
  "kernelspec": {
   "display_name": "Python 3",
   "language": "python",
   "name": "python3"
  },
  "language_info": {
   "codemirror_mode": {
    "name": "ipython",
    "version": 3
   },
   "file_extension": ".py",
   "mimetype": "text/x-python",
   "name": "python",
   "nbconvert_exporter": "python",
   "pygments_lexer": "ipython3",
   "version": "3.6.2"
  }
 },
 "nbformat": 4,
 "nbformat_minor": 2
}
